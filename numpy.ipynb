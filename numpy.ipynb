{
  "nbformat": 4,
  "nbformat_minor": 0,
  "metadata": {
    "colab": {
      "name": "Untitled1.ipynb",
      "provenance": [],
      "authorship_tag": "ABX9TyOx5wdItfcxlcgOwdJK5bBN",
      "include_colab_link": true
    },
    "kernelspec": {
      "name": "python3",
      "display_name": "Python 3"
    },
    "language_info": {
      "name": "python"
    }
  },
  "cells": [
    {
      "cell_type": "markdown",
      "metadata": {
        "id": "view-in-github",
        "colab_type": "text"
      },
      "source": [
        "<a href=\"https://colab.research.google.com/github/207r1a6654/207r1a6654/blob/main/numpy.ipynb\" target=\"_parent\"><img src=\"https://colab.research.google.com/assets/colab-badge.svg\" alt=\"Open In Colab\"/></a>"
      ]
    },
    {
      "cell_type": "code",
      "metadata": {
        "colab": {
          "base_uri": "https://localhost:8080/"
        },
        "id": "iKTqAHflFTug",
        "outputId": "5e64a405-27de-4302-c6b9-86519edb40d0"
      },
      "source": [
        "import numpy as np\n",
        "a=np.array([1,2,3])\n",
        "print(a)\n",
        "print(type(a))\n"
      ],
      "execution_count": 1,
      "outputs": [
        {
          "output_type": "stream",
          "name": "stdout",
          "text": [
            "[1 2 3]\n",
            "<class 'numpy.ndarray'>\n"
          ]
        }
      ]
    },
    {
      "cell_type": "code",
      "metadata": {
        "colab": {
          "base_uri": "https://localhost:8080/"
        },
        "id": "IKVZoM2aHgeU",
        "outputId": "4ff6f88d-6d9b-4dd8-8e92-25838a10d5a0"
      },
      "source": [
        "import numpy as np\n",
        "a=np.array([[1,2,3],[4,5,6]])\n",
        "print(a)"
      ],
      "execution_count": 2,
      "outputs": [
        {
          "output_type": "stream",
          "name": "stdout",
          "text": [
            "[[1 2 3]\n",
            " [4 5 6]]\n"
          ]
        }
      ]
    },
    {
      "cell_type": "code",
      "metadata": {
        "colab": {
          "base_uri": "https://localhost:8080/"
        },
        "id": "qn1bI0SLHttI",
        "outputId": "7add3b05-d08e-4908-9f35-870253ee26e2"
      },
      "source": [
        "import numpy as np\n",
        "a=np.array([1,3,5,6],dtype=complex)\n",
        "print(a)"
      ],
      "execution_count": 4,
      "outputs": [
        {
          "output_type": "stream",
          "name": "stdout",
          "text": [
            "[1.+0.j 3.+0.j 5.+0.j 6.+0.j]\n"
          ]
        }
      ]
    },
    {
      "cell_type": "code",
      "metadata": {
        "colab": {
          "base_uri": "https://localhost:8080/"
        },
        "id": "TI8phNQOIdf1",
        "outputId": "19040fc9-fdc1-4c18-c435-7325f90ffae7"
      },
      "source": [
        "import numpy as np\n",
        "a=np.array([[1,2,3,4,5],[6,7,8,9,10]])\n",
        "print(a)\n",
        "print(a.ndim)\n",
        "print(a.itemsize,\"bytes\")\n",
        "print(a.size,\"bytes\")\n",
        "print(a.shape)"
      ],
      "execution_count": 9,
      "outputs": [
        {
          "output_type": "stream",
          "name": "stdout",
          "text": [
            "[[ 1  2  3  4  5]\n",
            " [ 6  7  8  9 10]]\n",
            "2\n",
            "8 bytes\n",
            "10 bytes\n",
            "(2, 5)\n"
          ]
        }
      ]
    },
    {
      "cell_type": "code",
      "metadata": {
        "colab": {
          "base_uri": "https://localhost:8080/"
        },
        "id": "NkHuuZBCI6WN",
        "outputId": "c1d54924-527f-430b-f663-94d02a8421f5"
      },
      "source": [
        "import numpy as np\n",
        "a=np.array([[1,2],[3,4],[5,6]])\n",
        "print(a)\n",
        "a=a.reshape(2,3)\n",
        "print(a)"
      ],
      "execution_count": 11,
      "outputs": [
        {
          "output_type": "stream",
          "name": "stdout",
          "text": [
            "[[1 2]\n",
            " [3 4]\n",
            " [5 6]]\n",
            "[[1 2 3]\n",
            " [4 5 6]]\n"
          ]
        }
      ]
    },
    {
      "cell_type": "code",
      "metadata": {
        "colab": {
          "base_uri": "https://localhost:8080/"
        },
        "id": "Qkkei96uJ_Db",
        "outputId": "868139dd-f003-4c44-82b6-2b48964662c9"
      },
      "source": [
        "import numpy as np\n",
        "a=np.array([1,2,3,5,15,7])\n",
        "print(a)\n",
        "print(\"The maximum element in the array is:\",a.max())\n",
        "print(\"The minimum element in the array is:\",a.min())\n",
        "print(\"The sum of elements in the array is:\",a.sum())\n"
      ],
      "execution_count": 12,
      "outputs": [
        {
          "output_type": "stream",
          "name": "stdout",
          "text": [
            "[ 1  2  3  5 15  7]\n",
            "The maximum element in the array is: 15\n",
            "The minimum element in the array is: 1\n",
            "The sum of elements in the array is: 33\n"
          ]
        }
      ]
    },
    {
      "cell_type": "code",
      "metadata": {
        "colab": {
          "base_uri": "https://localhost:8080/"
        },
        "id": "GjOqthiYKfUY",
        "outputId": "4563282e-d204-4a61-a794-fd6161e72be9"
      },
      "source": [
        "import numpy as np\n",
        "a=np.array([[1,2,30],[10,15,4]])\n",
        "print(\"The array is:\",a)\n",
        "print(\"The maximum element in each row:\",a.max(axis=1))\n",
        "print(\"the maximum element of each coloumn:\",a.max(axis=0))\n",
        "print(\"The minimum element in each row:\",a.min(axis=1))\n",
        "print(\"the minimum element of each coloumn:\",a.min(axis=0))\n",
        "print(\"The sum of all elements in each row\",a.sum(axis=1))\n",
        "print(\"The sum of all elements in each coloumn\",a.sum(axis=0))"
      ],
      "execution_count": 13,
      "outputs": [
        {
          "output_type": "stream",
          "name": "stdout",
          "text": [
            "The array is: [[ 1  2 30]\n",
            " [10 15  4]]\n",
            "The maximum element in each row: [30 15]\n",
            "the maximum element of each coloumn: [10 15 30]\n",
            "The minimum element in each row: [1 4]\n",
            "the minimum element of each coloumn: [1 2 4]\n",
            "The sum of all elements in each row [33 29]\n",
            "The sum of all elements in each coloumn [11 17 34]\n"
          ]
        }
      ]
    }
  ]
}