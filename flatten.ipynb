{
  "nbformat": 4,
  "nbformat_minor": 0,
  "metadata": {
    "colab": {
      "name": "Untitled2.ipynb",
      "provenance": [],
      "authorship_tag": "ABX9TyNBolibuQD0a9nTov+6ecFR",
      "include_colab_link": true
    },
    "kernelspec": {
      "name": "python3",
      "display_name": "Python 3"
    },
    "language_info": {
      "name": "python"
    }
  },
  "cells": [
    {
      "cell_type": "markdown",
      "metadata": {
        "id": "view-in-github",
        "colab_type": "text"
      },
      "source": [
        "<a href=\"https://colab.research.google.com/github/207r1a6654/207r1a6654/blob/main/flatten.ipynb\" target=\"_parent\"><img src=\"https://colab.research.google.com/assets/colab-badge.svg\" alt=\"Open In Colab\"/></a>"
      ]
    },
    {
      "cell_type": "code",
      "metadata": {
        "colab": {
          "base_uri": "https://localhost:8080/"
        },
        "id": "ppE2r-RoWQZQ",
        "outputId": "65951500-884b-4eb7-d561-0d9fb850259a"
      },
      "source": [
        "import numpy as np\n",
        "a=np.array([[1,4,7],[2,5,8],[3,6,9]])\n",
        "b=a.flatten()\n",
        "print(b)\n",
        "c=a.flatten('C')\n",
        "print(c)\n",
        "d=a.flatten('F')\n",
        "print(d)\n",
        "e=a.flatten('A')\n",
        "print(e)\n",
        "f=a.flatten('K')\n",
        "print(f)"
      ],
      "execution_count": 5,
      "outputs": [
        {
          "output_type": "stream",
          "name": "stdout",
          "text": [
            "[1 4 7 2 5 8 3 6 9]\n",
            "[1 4 7 2 5 8 3 6 9]\n",
            "[1 2 3 4 5 6 7 8 9]\n",
            "[1 4 7 2 5 8 3 6 9]\n",
            "[1 4 7 2 5 8 3 6 9]\n"
          ]
        }
      ]
    }
  ]
}